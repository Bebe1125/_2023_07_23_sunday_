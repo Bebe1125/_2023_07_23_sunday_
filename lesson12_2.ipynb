{
 "cells": [
  {
   "cell_type": "code",
   "execution_count": 8,
   "metadata": {},
   "outputs": [
    {
     "name": "stdout",
     "output_type": "stream",
     "text": [
      "目前存檔的檔案:\n",
      "['a2.csv', 'a1.csv']\n",
      "['姓名', '國文', '英文', '數學', '社會', '地理']\n",
      "['王雅琴', '91', '59', '61', '70', '91']\n",
      "['翁羽威', '86', '93', '86', '84', '94']\n",
      "['黃奎紹', '57', '87', '76', '85', '81']\n",
      "['鄭憲定', '88', '82', '95', '93', '60']\n",
      "['蕭怡伶', '62', '100', '86', '55', '90']\n",
      "['陳文賢', '62', '74', '60', '54', '60']\n",
      "['陳向愛', '98', '77', '99', '68', '77']\n",
      "['謝哲維', '59', '56', '100', '63', '95']\n",
      "['馮耀中', '81', '65', '64', '89', '97']\n",
      "['吳孟穎', '75', '86', '91', '97', '81']\n",
      "['吳昕婷', '66', '54', '57', '85', '60']\n",
      "['孫宜珊', '72', '57', '98', '69', '75']\n",
      "['黃靜怡', '80', '96', '87', '63', '86']\n",
      "['盧冠發', '55', '90', '51', '81', '77']\n",
      "['林麗萍', '67', '55', '54', '56', '93']\n",
      "['柯宜臻', '75', '51', '81', '81', '91']\n",
      "['昌嘉洋', '90', '64', '56', '96', '73']\n",
      "['林益妏', '74', '76', '81', '96', '66']\n",
      "['王惠皓', '78', '87', '98', '93', '93']\n",
      "['張家秀', '80', '52', '73', '58', '92']\n"
     ]
    }
   ],
   "source": [
    "import os\n",
    "import csv\n",
    "root = os.path.abspath('./')\n",
    "directory = os.path.join(root,\"csv_data\")\n",
    "print(\"目前存檔的檔案:\")\n",
    "print(os.listdir(directory))\n",
    "\n",
    "\n",
    "fileName = input(\"您要載入的檔案是\")\n",
    "filePath = os.path.join(root,\"csv_data\",fileName)\n",
    "with open(filePath,encoding='utf-8',newline='') as file :\n",
    "    csv_reader = csv.reader(file)\n",
    "    for line in csv_reader:\n",
    "        print(line)\n"
   ]
  }
 ],
 "metadata": {
  "kernelspec": {
   "display_name": "Python 3",
   "language": "python",
   "name": "python3"
  },
  "language_info": {
   "codemirror_mode": {
    "name": "ipython",
    "version": 3
   },
   "file_extension": ".py",
   "mimetype": "text/x-python",
   "name": "python",
   "nbconvert_exporter": "python",
   "pygments_lexer": "ipython3",
   "version": "3.10.12"
  },
  "orig_nbformat": 4
 },
 "nbformat": 4,
 "nbformat_minor": 2
}
