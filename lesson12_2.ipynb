{
 "cells": [
  {
   "cell_type": "code",
   "execution_count": 10,
   "metadata": {},
   "outputs": [
    {
     "name": "stdout",
     "output_type": "stream",
     "text": [
      "目前存檔的檔案:\n",
      "['a2.csv', 'a1.csv']\n",
      "[['王雅琴', '91', '59', '61', '70', '91'], ['翁羽威', '86', '93', '86', '84', '94'], ['黃奎紹', '57', '87', '76', '85', '81'], ['鄭憲定', '88', '82', '95', '93', '60'], ['蕭怡伶', '62', '100', '86', '55', '90'], ['陳文賢', '62', '74', '60', '54', '60'], ['陳向愛', '98', '77', '99', '68', '77'], ['謝哲維', '59', '56', '100', '63', '95'], ['馮耀中', '81', '65', '64', '89', '97'], ['吳孟穎', '75', '86', '91', '97', '81'], ['吳昕婷', '66', '54', '57', '85', '60'], ['孫宜珊', '72', '57', '98', '69', '75'], ['黃靜怡', '80', '96', '87', '63', '86'], ['盧冠發', '55', '90', '51', '81', '77'], ['林麗萍', '67', '55', '54', '56', '93'], ['柯宜臻', '75', '51', '81', '81', '91'], ['昌嘉洋', '90', '64', '56', '96', '73'], ['林益妏', '74', '76', '81', '96', '66'], ['王惠皓', '78', '87', '98', '93', '93'], ['張家秀', '80', '52', '73', '58', '92']]\n"
     ]
    }
   ],
   "source": [
    "import os\n",
    "import csv\n",
    "root = os.path.abspath('./')\n",
    "directory = os.path.join(root,\"csv_data\")\n",
    "print(\"目前存檔的檔案:\")\n",
    "print(os.listdir(directory))\n",
    "\n",
    "\n",
    "fileName = input(\"您要載入的檔案是\")\n",
    "filePath = os.path.join(root,\"csv_data\",fileName)\n",
    "with open(filePath,encoding='utf-8',newline='') as file :\n",
    "    csv_reader = csv.reader(file)\n",
    "    next(csv_reader)\n",
    "    stidents = list(csv_reader)\n",
    "print(stidents)       \n"
   ]
  }
 ],
 "metadata": {
  "kernelspec": {
   "display_name": "Python 3",
   "language": "python",
   "name": "python3"
  },
  "language_info": {
   "codemirror_mode": {
    "name": "ipython",
    "version": 3
   },
   "file_extension": ".py",
   "mimetype": "text/x-python",
   "name": "python",
   "nbconvert_exporter": "python",
   "pygments_lexer": "ipython3",
   "version": "3.10.12"
  },
  "orig_nbformat": 4
 },
 "nbformat": 4,
 "nbformat_minor": 2
}
