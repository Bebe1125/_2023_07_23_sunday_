{
 "cells": [
  {
   "cell_type": "code",
   "execution_count": 1,
   "metadata": {},
   "outputs": [
    {
     "data": {
      "text/plain": [
       "[['杜明延', 59, 68, 55, 56, 100],\n",
       " ['林向鈺', 83, 68, 92, 71, 83],\n",
       " ['周芷蓁', 91, 83, 93, 56, 62],\n",
       " ['藍姿婷', 100, 96, 66, 66, 50],\n",
       " ['王人仰', 100, 96, 73, 77, 50],\n",
       " ['張伊映', 92, 69, 77, 66, 72],\n",
       " ['陳逸華', 66, 97, 77, 76, 63],\n",
       " ['周家銘', 98, 86, 57, 82, 56],\n",
       " ['黃心航', 76, 50, 100, 52, 61],\n",
       " ['陳得映', 69, 69, 69, 98, 50],\n",
       " ['王品星', 74, 89, 99, 51, 66],\n",
       " ['黃柏宇', 75, 99, 80, 99, 54],\n",
       " ['臧怡君', 91, 61, 82, 70, 84],\n",
       " ['賴心怡', 84, 90, 99, 89, 83],\n",
       " ['唐翊修', 50, 70, 67, 93, 83],\n",
       " ['潘俊賢', 88, 64, 86, 61, 81],\n",
       " ['劉依婷', 89, 65, 75, 62, 100],\n",
       " ['李彥伸', 99, 68, 98, 100, 54],\n",
       " ['鄧亭聿', 78, 79, 66, 96, 62],\n",
       " ['賴昌韻', 80, 67, 92, 88, 90],\n",
       " ['張軒宸', 68, 96, 53, 80, 69],\n",
       " ['楊少亮', 52, 57, 76, 68, 78],\n",
       " ['姜琬婷', 64, 91, 55, 69, 89],\n",
       " ['鄧淑娟', 83, 91, 96, 82, 57],\n",
       " ['溫法堯', 97, 58, 64, 88, 99],\n",
       " ['陳美惠', 95, 59, 85, 73, 85],\n",
       " ['林希啟', 72, 98, 81, 95, 71],\n",
       " ['李湘婷', 51, 75, 53, 60, 85],\n",
       " ['胡淑貞', 54, 99, 93, 77, 72],\n",
       " ['王惠皓', 68, 84, 81, 58, 69]]"
      ]
     },
     "execution_count": 1,
     "metadata": {},
     "output_type": "execute_result"
    }
   ],
   "source": [
    "import os\n",
    "import student\n",
    "\n",
    "file_name = input(\"請輸入要存檔的檔案名稱:\")\n",
    "root = os.path.abspath(path=\"./\")  #得到此檔案的位置\n",
    "filePath = os.path.join(root,'csv_data',f'{file_name}.csv') #可自訂檔名\n",
    "\n",
    "student = student.get_students(student_num=30)\n",
    "student\n"
   ]
  }
 ],
 "metadata": {
  "kernelspec": {
   "display_name": "Python 3",
   "language": "python",
   "name": "python3"
  },
  "language_info": {
   "codemirror_mode": {
    "name": "ipython",
    "version": 3
   },
   "file_extension": ".py",
   "mimetype": "text/x-python",
   "name": "python",
   "nbconvert_exporter": "python",
   "pygments_lexer": "ipython3",
   "version": "3.10.12"
  },
  "orig_nbformat": 4
 },
 "nbformat": 4,
 "nbformat_minor": 2
}
