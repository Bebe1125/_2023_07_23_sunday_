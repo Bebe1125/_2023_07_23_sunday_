{
 "cells": [
  {
   "cell_type": "code",
   "execution_count": null,
   "metadata": {},
   "outputs": [],
   "source": [
    "#list  #跟字串一樣都是串列資料Sequence(串列)\n",
    "stu1 = [46,92,78,59,73]   #一個變數控制了5個值\n",
    "display(stu1)"
   ]
  },
  {
   "cell_type": "code",
   "execution_count": null,
   "metadata": {},
   "outputs": [],
   "source": [
    "for score in stu1:\n",
    "    print(score,end=' ')"
   ]
  },
  {
   "cell_type": "code",
   "execution_count": null,
   "metadata": {},
   "outputs": [],
   "source": [
    "#使用[ ]建立list\n",
    "print(stu1[0])  #取出第一個值\n",
    "print(stu1[-1]) #取出最後一個值\n",
    "print(stu1[:3]) #取出前三個值\n",
    "print(stu1[:-3])  #取出最後3個值"
   ]
  },
  {
   "cell_type": "code",
   "execution_count": null,
   "metadata": {},
   "outputs": [],
   "source": [
    "empty_list = []  #建立空的list\n",
    "empty_list1 = list()\n",
    "weekdays = ['星期一', '星期二', '星期三', '星期四', '星期五', '星期六', '星期日']\n",
    "list('cat')"
   ]
  },
  {
   "cell_type": "code",
   "execution_count": null,
   "metadata": {},
   "outputs": [],
   "source": [
    "list(range(10))"
   ]
  },
  {
   "cell_type": "code",
   "execution_count": 21,
   "metadata": {},
   "outputs": [
    {
     "data": {
      "text/plain": [
       "['台北', '台中', '台南']"
      ]
     },
     "execution_count": 21,
     "metadata": {},
     "output_type": "execute_result"
    }
   ],
   "source": [
    "#append是list的實體方法\n",
    "cities = []\n",
    "cities\n",
    "cities.append('台北')\n",
    "cities.append('台中')\n",
    "cities.append('台南')\n",
    "cities"
   ]
  },
  {
   "cell_type": "code",
   "execution_count": 20,
   "metadata": {},
   "outputs": [
    {
     "name": "stdout",
     "output_type": "stream",
     "text": [
      "索引出錯了\n"
     ]
    }
   ],
   "source": [
    "try:\n",
    "    cities[3]\n",
    "except IndexError:\n",
    "    print(\"索引出錯了\")\n",
    "except:\n",
    "    print(\"出錯了\")\n",
    "else:\n",
    "    print(\"沒有出錯\")"
   ]
  },
  {
   "cell_type": "code",
   "execution_count": 25,
   "metadata": {},
   "outputs": [
    {
     "name": "stdout",
     "output_type": "stream",
     "text": [
      "沒有這個值\n"
     ]
    }
   ],
   "source": [
    "try:\n",
    "    cities.remove('高雄')\n",
    "except ValueError:\n",
    "    print(\"沒有這個值\")"
   ]
  },
  {
   "cell_type": "code",
   "execution_count": 22,
   "metadata": {},
   "outputs": [
    {
     "data": {
      "text/plain": [
       "['台中', '台南']"
      ]
     },
     "execution_count": 22,
     "metadata": {},
     "output_type": "execute_result"
    }
   ],
   "source": [
    "try:\n",
    "    cities.remove('台北')\n",
    "except ValueError:\n",
    "    print(\"沒有這個值\")\n",
    "cities"
   ]
  },
  {
   "cell_type": "code",
   "execution_count": 23,
   "metadata": {},
   "outputs": [
    {
     "data": {
      "text/plain": [
       "['台中']"
      ]
     },
     "execution_count": 23,
     "metadata": {},
     "output_type": "execute_result"
    }
   ],
   "source": [
    "cities.pop()\n",
    "cities"
   ]
  },
  {
   "cell_type": "code",
   "execution_count": 24,
   "metadata": {},
   "outputs": [
    {
     "data": {
      "text/plain": [
       "[]"
      ]
     },
     "execution_count": 24,
     "metadata": {},
     "output_type": "execute_result"
    }
   ],
   "source": [
    "cities.clear()\n",
    "cities"
   ]
  }
 ],
 "metadata": {
  "kernelspec": {
   "display_name": "Python 3",
   "language": "python",
   "name": "python3"
  },
  "language_info": {
   "codemirror_mode": {
    "name": "ipython",
    "version": 3
   },
   "file_extension": ".py",
   "mimetype": "text/x-python",
   "name": "python",
   "nbconvert_exporter": "python",
   "pygments_lexer": "ipython3",
   "version": "3.10.12"
  },
  "orig_nbformat": 4
 },
 "nbformat": 4,
 "nbformat_minor": 2
}
