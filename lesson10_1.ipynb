{
 "cells": [
  {
   "cell_type": "code",
   "execution_count": 1,
   "metadata": {},
   "outputs": [],
   "source": [
    "#字串正規則表達式(檢查字串格式,搜尋字串)\n",
    "#re 檢查0~9的數字\n",
    "#\n",
    "import re  #re. 比對的實體樣本\n",
    "def isPhoneNumber1(text:str) -> bool:\n",
    "    phone_num_regex = re.compile(r'\\d\\d\\d\\d-\\d\\d\\d-\\d\\d\\d')   #re. 比對的實體樣本 #r' ' 表示後面的\\d是原生字元\n",
    "    if phone_num_regex.match(text) is None:     #match 實體方法 ,當比對成功 會傳出match的實體,失敗傳出None\n",
    "        return False\n",
    "    else:\n",
    "        return True \n",
    "               "
   ]
  },
  {
   "cell_type": "code",
   "execution_count": 3,
   "metadata": {},
   "outputs": [
    {
     "name": "stdout",
     "output_type": "stream",
     "text": [
      "格式正確,電話號碼:1231-456-456\n"
     ]
    }
   ],
   "source": [
    "# 檢查台灣手機號碼輸入格式(xxxx-xxx-xxx)\n",
    "phone_num = input(\"請輸入手機號碼XXXX-XXX-XXX:\")\n",
    "if isPhoneNumber1(text=phone_num):\n",
    "    print(f\"格式正確,電話號碼:{phone_num}\")\n",
    "else:\n",
    "    print(f\"格式錯誤\")\n",
    "    print(\"正確格式是:xxxx-xxx-xxx\")"
   ]
  },
  {
   "cell_type": "code",
   "execution_count": 4,
   "metadata": {},
   "outputs": [],
   "source": [
    "#字串正規則表達式(檢查字串格式,搜尋字串)\n",
    "#re 檢查0~9的數字\n",
    "#\n",
    "import re  #re. 比對的實體樣本\n",
    "\n",
    "def isEmail(text:str) -> bool:\n",
    "    email_regex = re.compile(r'^\\w+([-+.]\\w+)*@\\w+([-.]\\w+)*\\.\\w+([-.]\\w+)*$')   #re. 比對的實體樣本 \n",
    "    if email_regex.match(text) is None:     #match 實體方法 ,當比對成功 會傳出match的實體,失敗傳出None\n",
    "        return False\n",
    "    else:\n",
    "        return True \n",
    "               "
   ]
  },
  {
   "cell_type": "code",
   "execution_count": 6,
   "metadata": {},
   "outputs": [
    {
     "name": "stdout",
     "output_type": "stream",
     "text": [
      "格式正確,email :ghpp1125@gmail.com\n"
     ]
    }
   ],
   "source": [
    "# 檢查email輸入格式\n",
    "email = input(\"請輸入email:\")\n",
    "if isEmail(text=email):\n",
    "    print(f\"格式正確,email :{email}\")\n",
    "else:\n",
    "    print(f\"email格式錯誤\")"
   ]
  }
 ],
 "metadata": {
  "kernelspec": {
   "display_name": "Python 3",
   "language": "python",
   "name": "python3"
  },
  "language_info": {
   "codemirror_mode": {
    "name": "ipython",
    "version": 3
   },
   "file_extension": ".py",
   "mimetype": "text/x-python",
   "name": "python",
   "nbconvert_exporter": "python",
   "pygments_lexer": "ipython3",
   "version": "3.10.12"
  },
  "orig_nbformat": 4
 },
 "nbformat": 4,
 "nbformat_minor": 2
}
