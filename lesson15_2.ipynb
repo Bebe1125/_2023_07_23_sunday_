{
 "cells": [
  {
   "cell_type": "code",
   "execution_count": 3,
   "metadata": {},
   "outputs": [
    {
     "data": {
      "text/plain": [
       "[142,\n",
       " 161,\n",
       " 126,\n",
       " 152,\n",
       " 180,\n",
       " 149,\n",
       " 161,\n",
       " 179,\n",
       " 133,\n",
       " 160,\n",
       " 129,\n",
       " 135,\n",
       " 179,\n",
       " 137,\n",
       " 127,\n",
       " 162,\n",
       " 159,\n",
       " 156,\n",
       " 145,\n",
       " 167,\n",
       " 153,\n",
       " 148,\n",
       " 141,\n",
       " 172,\n",
       " 157,\n",
       " 163,\n",
       " 151,\n",
       " 167,\n",
       " 161,\n",
       " 162,\n",
       " 153,\n",
       " 162,\n",
       " 186,\n",
       " 159,\n",
       " 186,\n",
       " 163,\n",
       " 155,\n",
       " 174,\n",
       " 139,\n",
       " 153,\n",
       " 143,\n",
       " 156,\n",
       " 153,\n",
       " 146,\n",
       " 160,\n",
       " 158,\n",
       " 160,\n",
       " 190,\n",
       " 174,\n",
       " 186]"
      ]
     },
     "execution_count": 3,
     "metadata": {},
     "output_type": "execute_result"
    }
   ],
   "source": [
    "#list的運算,需要利用迴圈\n",
    "import random\n",
    "chinese = [random.randint(60, 100) for _ in range(50)]\n",
    "english = [random.randint(60, 100) for _ in range(50)]\n",
    "\n",
    "result = []\n",
    "for i in range(50):\n",
    "    total = chinese[i] + english[i]\n",
    "    result.append(total)\n",
    "\n",
    "result\n"
   ]
  },
  {
   "cell_type": "code",
   "execution_count": 2,
   "metadata": {},
   "outputs": [
    {
     "data": {
      "text/plain": [
       "array([162, 155, 181, 141, 185, 178, 150, 170, 150, 169, 132, 172, 141,\n",
       "       158, 172, 190, 148, 123, 164, 163, 148, 151, 152, 186, 194, 165,\n",
       "       152, 179, 160, 143, 177, 187, 152, 143, 141, 151, 158, 161, 180,\n",
       "       126, 141, 154, 152, 172, 138, 163, 158, 162, 147, 145])"
      ]
     },
     "execution_count": 2,
     "metadata": {},
     "output_type": "execute_result"
    }
   ],
   "source": [
    "#使用numpy , 大量資料用陣列運算 速度會快很多 ndArry\n",
    "\n",
    "import numpy as np\n",
    "chinese = np.random.randint(60, high=100 , size=50)\n",
    "english = np.random.randint(60, high=100 , size=50)\n",
    "result = chinese + english\n",
    "result"
   ]
  }
 ],
 "metadata": {
  "kernelspec": {
   "display_name": "Python 3",
   "language": "python",
   "name": "python3"
  },
  "language_info": {
   "codemirror_mode": {
    "name": "ipython",
    "version": 3
   },
   "file_extension": ".py",
   "mimetype": "text/x-python",
   "name": "python",
   "nbconvert_exporter": "python",
   "pygments_lexer": "ipython3",
   "version": "3.10.12"
  },
  "orig_nbformat": 4
 },
 "nbformat": 4,
 "nbformat_minor": 2
}
