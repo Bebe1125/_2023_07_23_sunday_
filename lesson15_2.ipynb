{
 "cells": [
  {
   "cell_type": "code",
   "execution_count": 3,
   "metadata": {},
   "outputs": [
    {
     "data": {
      "text/plain": [
       "[142,\n",
       " 161,\n",
       " 126,\n",
       " 152,\n",
       " 180,\n",
       " 149,\n",
       " 161,\n",
       " 179,\n",
       " 133,\n",
       " 160,\n",
       " 129,\n",
       " 135,\n",
       " 179,\n",
       " 137,\n",
       " 127,\n",
       " 162,\n",
       " 159,\n",
       " 156,\n",
       " 145,\n",
       " 167,\n",
       " 153,\n",
       " 148,\n",
       " 141,\n",
       " 172,\n",
       " 157,\n",
       " 163,\n",
       " 151,\n",
       " 167,\n",
       " 161,\n",
       " 162,\n",
       " 153,\n",
       " 162,\n",
       " 186,\n",
       " 159,\n",
       " 186,\n",
       " 163,\n",
       " 155,\n",
       " 174,\n",
       " 139,\n",
       " 153,\n",
       " 143,\n",
       " 156,\n",
       " 153,\n",
       " 146,\n",
       " 160,\n",
       " 158,\n",
       " 160,\n",
       " 190,\n",
       " 174,\n",
       " 186]"
      ]
     },
     "execution_count": 3,
     "metadata": {},
     "output_type": "execute_result"
    }
   ],
   "source": [
    "#list的運算,需要利用迴圈\n",
    "import random\n",
    "chinese = [random.randint(60, 100) for _ in range(50)]\n",
    "english = [random.randint(60, 100) for _ in range(50)]\n",
    "\n",
    "result = []\n",
    "for i in range(50):\n",
    "    total = chinese[i] + english[i]\n",
    "    result.append(total)\n",
    "\n",
    "result\n"
   ]
  },
  {
   "cell_type": "code",
   "execution_count": 2,
   "metadata": {},
   "outputs": [
    {
     "data": {
      "text/plain": [
       "array([162, 155, 181, 141, 185, 178, 150, 170, 150, 169, 132, 172, 141,\n",
       "       158, 172, 190, 148, 123, 164, 163, 148, 151, 152, 186, 194, 165,\n",
       "       152, 179, 160, 143, 177, 187, 152, 143, 141, 151, 158, 161, 180,\n",
       "       126, 141, 154, 152, 172, 138, 163, 158, 162, 147, 145])"
      ]
     },
     "execution_count": 2,
     "metadata": {},
     "output_type": "execute_result"
    }
   ],
   "source": [
    "#使用numpy , 大量資料用陣列運算 速度會快很多 ndArray\n",
    "\n",
    "import numpy as np\n",
    "chinese = np.random.randint(60, high=100 , size=50)\n",
    "english = np.random.randint(60, high=100 , size=50)\n",
    "result = chinese + english\n",
    "result"
   ]
  },
  {
   "cell_type": "code",
   "execution_count": 4,
   "metadata": {},
   "outputs": [
    {
     "data": {
      "text/plain": [
       "array([[79, 97, 79, 96, 76],\n",
       "       [72, 66, 77, 67, 66],\n",
       "       [67, 87, 83, 60, 99],\n",
       "       [92, 77, 86, 64, 71],\n",
       "       [89, 82, 79, 89, 78],\n",
       "       [65, 90, 94, 69, 67],\n",
       "       [72, 64, 99, 60, 75],\n",
       "       [92, 83, 91, 96, 62],\n",
       "       [76, 69, 67, 60, 71],\n",
       "       [74, 63, 92, 65, 64],\n",
       "       [84, 81, 63, 75, 96],\n",
       "       [69, 81, 85, 90, 99],\n",
       "       [61, 93, 92, 62, 87],\n",
       "       [82, 89, 60, 79, 68],\n",
       "       [80, 77, 63, 91, 63],\n",
       "       [91, 65, 88, 92, 98],\n",
       "       [64, 90, 82, 71, 90],\n",
       "       [78, 85, 77, 74, 85],\n",
       "       [65, 84, 86, 75, 99],\n",
       "       [64, 76, 60, 94, 99],\n",
       "       [88, 73, 71, 70, 97],\n",
       "       [82, 80, 72, 65, 67],\n",
       "       [61, 62, 85, 70, 75],\n",
       "       [89, 93, 78, 62, 72],\n",
       "       [91, 90, 74, 74, 99],\n",
       "       [61, 62, 74, 94, 73],\n",
       "       [95, 69, 80, 68, 90],\n",
       "       [94, 70, 95, 80, 92],\n",
       "       [74, 69, 78, 66, 84],\n",
       "       [69, 83, 85, 77, 81],\n",
       "       [95, 60, 94, 82, 86],\n",
       "       [69, 90, 62, 84, 87],\n",
       "       [69, 63, 63, 90, 91],\n",
       "       [98, 90, 86, 66, 92],\n",
       "       [81, 75, 60, 98, 85],\n",
       "       [90, 64, 66, 64, 64],\n",
       "       [69, 91, 61, 60, 89],\n",
       "       [99, 69, 80, 69, 90],\n",
       "       [91, 85, 92, 63, 83],\n",
       "       [98, 98, 67, 79, 97],\n",
       "       [67, 99, 88, 60, 91],\n",
       "       [80, 71, 81, 93, 77],\n",
       "       [95, 70, 95, 71, 72],\n",
       "       [78, 82, 75, 78, 95],\n",
       "       [69, 91, 69, 71, 84],\n",
       "       [73, 98, 96, 79, 94],\n",
       "       [61, 75, 68, 61, 69],\n",
       "       [94, 69, 86, 95, 98],\n",
       "       [91, 99, 66, 65, 66],\n",
       "       [88, 95, 72, 70, 95]])"
      ]
     },
     "execution_count": 4,
     "metadata": {},
     "output_type": "execute_result"
    }
   ],
   "source": [
    "#50個學生,5個分數\n",
    "import numpy as np\n",
    "\n",
    "students = np.random.randint(60,high=100,size=(50,5))\n",
    "students"
   ]
  }
 ],
 "metadata": {
  "kernelspec": {
   "display_name": "Python 3",
   "language": "python",
   "name": "python3"
  },
  "language_info": {
   "codemirror_mode": {
    "name": "ipython",
    "version": 3
   },
   "file_extension": ".py",
   "mimetype": "text/x-python",
   "name": "python",
   "nbconvert_exporter": "python",
   "pygments_lexer": "ipython3",
   "version": "3.10.12"
  },
  "orig_nbformat": 4
 },
 "nbformat": 4,
 "nbformat_minor": 2
}
