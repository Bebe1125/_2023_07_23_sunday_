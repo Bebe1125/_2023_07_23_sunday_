{
 "cells": [
  {
   "cell_type": "code",
   "execution_count": 3,
   "metadata": {},
   "outputs": [
    {
     "data": {
      "text/plain": [
       "[142,\n",
       " 161,\n",
       " 126,\n",
       " 152,\n",
       " 180,\n",
       " 149,\n",
       " 161,\n",
       " 179,\n",
       " 133,\n",
       " 160,\n",
       " 129,\n",
       " 135,\n",
       " 179,\n",
       " 137,\n",
       " 127,\n",
       " 162,\n",
       " 159,\n",
       " 156,\n",
       " 145,\n",
       " 167,\n",
       " 153,\n",
       " 148,\n",
       " 141,\n",
       " 172,\n",
       " 157,\n",
       " 163,\n",
       " 151,\n",
       " 167,\n",
       " 161,\n",
       " 162,\n",
       " 153,\n",
       " 162,\n",
       " 186,\n",
       " 159,\n",
       " 186,\n",
       " 163,\n",
       " 155,\n",
       " 174,\n",
       " 139,\n",
       " 153,\n",
       " 143,\n",
       " 156,\n",
       " 153,\n",
       " 146,\n",
       " 160,\n",
       " 158,\n",
       " 160,\n",
       " 190,\n",
       " 174,\n",
       " 186]"
      ]
     },
     "execution_count": 3,
     "metadata": {},
     "output_type": "execute_result"
    }
   ],
   "source": [
    "#list的運算,需要利用迴圈\n",
    "import random\n",
    "chinese = [random.randint(60, 100) for _ in range(50)]\n",
    "english = [random.randint(60, 100) for _ in range(50)]\n",
    "\n",
    "result = []\n",
    "for i in range(50):\n",
    "    total = chinese[i] + english[i]\n",
    "    result.append(total)\n",
    "\n",
    "result\n"
   ]
  },
  {
   "cell_type": "code",
   "execution_count": 2,
   "metadata": {},
   "outputs": [
    {
     "data": {
      "text/plain": [
       "array([162, 155, 181, 141, 185, 178, 150, 170, 150, 169, 132, 172, 141,\n",
       "       158, 172, 190, 148, 123, 164, 163, 148, 151, 152, 186, 194, 165,\n",
       "       152, 179, 160, 143, 177, 187, 152, 143, 141, 151, 158, 161, 180,\n",
       "       126, 141, 154, 152, 172, 138, 163, 158, 162, 147, 145])"
      ]
     },
     "execution_count": 2,
     "metadata": {},
     "output_type": "execute_result"
    }
   ],
   "source": [
    "#使用numpy , 大量資料用陣列運算 速度會快很多 ndArray\n",
    "\n",
    "import numpy as np\n",
    "chinese = np.random.randint(60, high=100 , size=50)\n",
    "english = np.random.randint(60, high=100 , size=50)\n",
    "result = chinese + english\n",
    "result"
   ]
  },
  {
   "cell_type": "code",
   "execution_count": 10,
   "metadata": {},
   "outputs": [
    {
     "name": "stdout",
     "output_type": "stream",
     "text": [
      "[[92 67 63 63 73]\n",
      " [98 75 89 66 98]\n",
      " [93 74 92 80 99]\n",
      " [93 93 67 79 91]\n",
      " [83 87 73 65 81]\n",
      " [60 76 80 62 90]\n",
      " [86 68 93 70 73]\n",
      " [91 66 61 80 87]\n",
      " [69 90 75 86 61]\n",
      " [87 70 85 89 85]\n",
      " [99 94 77 95 92]\n",
      " [87 65 91 88 93]\n",
      " [94 96 89 88 82]\n",
      " [84 64 81 93 84]\n",
      " [95 82 75 90 60]\n",
      " [70 96 99 89 96]\n",
      " [61 74 99 94 91]\n",
      " [77 73 76 94 74]\n",
      " [61 66 85 78 88]\n",
      " [83 71 96 85 94]\n",
      " [99 85 68 92 62]\n",
      " [70 78 90 80 78]\n",
      " [71 78 94 82 73]\n",
      " [81 79 73 74 77]\n",
      " [77 64 64 68 67]\n",
      " [68 89 86 79 67]\n",
      " [87 98 70 93 83]\n",
      " [67 87 77 96 88]\n",
      " [61 61 73 94 73]\n",
      " [85 91 80 96 83]\n",
      " [60 65 75 73 69]\n",
      " [80 80 79 66 76]\n",
      " [93 99 95 92 73]\n",
      " [98 70 60 98 84]\n",
      " [83 67 84 98 70]\n",
      " [60 88 91 71 69]\n",
      " [67 60 63 81 76]\n",
      " [98 97 75 65 95]\n",
      " [73 88 84 71 64]\n",
      " [84 69 65 99 74]\n",
      " [90 72 69 77 85]\n",
      " [93 83 65 67 98]\n",
      " [65 98 70 63 81]\n",
      " [97 75 98 70 63]\n",
      " [93 84 95 87 64]\n",
      " [80 60 89 67 90]\n",
      " [99 82 84 94 62]\n",
      " [79 61 61 72 61]\n",
      " [95 82 80 74 60]\n",
      " [96 88 60 69 98]]\n",
      "[358 426 438 423 389 368 390 385 381 416 457 424 449 406 402 450 419 394\n",
      " 378 429 406 396 398 384 340 389 431 415 362 435 342 381 452 410 402 379\n",
      " 347 430 380 391 393 406 377 403 423 386 421 334 391 411]\n",
      "============\n",
      "[71.6 85.2 87.6 84.6 77.8 73.6 78.  77.  76.2 83.2 91.4 84.8 89.8 81.2\n",
      " 80.4 90.  83.8 78.8 75.6 85.8 81.2 79.2 79.6 76.8 68.  77.8 86.2 83.\n",
      " 72.4 87.  68.4 76.2 90.4 82.  80.4 75.8 69.4 86.  76.  78.2 78.6 81.2\n",
      " 75.4 80.6 84.6 77.2 84.2 66.8 78.2 82.2]\n"
     ]
    }
   ],
   "source": [
    "#50個學生,5個分數\n",
    "import numpy as np\n",
    "\n",
    "students = np.random.randint(60,high=100,size=(50,5))\n",
    "print(students)\n",
    "sum = np.sum(students,axis=1)\n",
    "average = np.average(students,axis=1)\n",
    "print(sum)\n",
    "print(\"============\")\n",
    "print(average)"
   ]
  }
 ],
 "metadata": {
  "kernelspec": {
   "display_name": "Python 3",
   "language": "python",
   "name": "python3"
  },
  "language_info": {
   "codemirror_mode": {
    "name": "ipython",
    "version": 3
   },
   "file_extension": ".py",
   "mimetype": "text/x-python",
   "name": "python",
   "nbconvert_exporter": "python",
   "pygments_lexer": "ipython3",
   "version": "3.10.12"
  },
  "orig_nbformat": 4
 },
 "nbformat": 4,
 "nbformat_minor": 2
}
