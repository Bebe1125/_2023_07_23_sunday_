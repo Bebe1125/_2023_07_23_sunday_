{
 "cells": [
  {
   "cell_type": "code",
   "execution_count": 1,
   "metadata": {},
   "outputs": [
    {
     "data": {
      "text/plain": [
       "3.142"
      ]
     },
     "execution_count": 1,
     "metadata": {},
     "output_type": "execute_result"
    }
   ],
   "source": [
    "round(3.1415867,ndigits=3)"
   ]
  },
  {
   "cell_type": "code",
   "execution_count": 1,
   "metadata": {},
   "outputs": [
    {
     "name": "stdout",
     "output_type": "stream",
     "text": [
      "對邊:2.5,斜邊:5,角度30.000000000000004\n",
      "對邊:2.5,斜邊:5,角度30.0\n"
     ]
    }
   ],
   "source": [
    "#高中數學\n",
    "import math\n",
    "side1 = eval(input(\"輸入直角三角形的對邊:\"))\n",
    "side2 = eval(input(\"輸入直角三角形的斜邊:\"))\n",
    "degree = math.degrees(math.asin(side1 / side2))  #sin(弳度)=對邊/斜邊 用math.asin得到弳度，再用math.degrees把弳度轉為角度\n",
    "degree2 = round(math.degrees(math.asin(side1 / side2)),ndigits=2) #用round取到小數點後2位數\n",
    "print(f\"對邊:{side1},斜邊:{side2},角度{degree}\") #字串插補\n",
    "print(f\"對邊:{side1},斜邊:{side2},角度{degree2}\")"
   ]
  }
 ],
 "metadata": {
  "kernelspec": {
   "display_name": "Python 3",
   "language": "python",
   "name": "python3"
  },
  "language_info": {
   "codemirror_mode": {
    "name": "ipython",
    "version": 3
   },
   "file_extension": ".py",
   "mimetype": "text/x-python",
   "name": "python",
   "nbconvert_exporter": "python",
   "pygments_lexer": "ipython3",
   "version": "3.10.12"
  },
  "orig_nbformat": 4
 },
 "nbformat": 4,
 "nbformat_minor": 2
}
