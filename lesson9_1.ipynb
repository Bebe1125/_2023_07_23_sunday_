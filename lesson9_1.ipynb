{
 "cells": [
  {
   "cell_type": "code",
   "execution_count": 16,
   "metadata": {},
   "outputs": [
    {
     "name": "stdout",
     "output_type": "stream",
     "text": [
      "格式有誤\n"
     ]
    }
   ],
   "source": [
    "# 檢查台灣手機號碼輸入格式(xxxx-xxx-xxx)\n",
    "phone_num = input(\"請輸入手機號碼XXXX-XXX-XXX:\")\n",
    "if len(phone_num) != 12:    #!=不等於\n",
    "    print(\"格式有誤\")\n",
    "elif not phone_num[:4] .isdigit():   #檢查前4碼是否為數字  #not邏輯運算子\n",
    "    print(\"前4個格式有誤\")\n",
    "elif phone_num[4] != \"-\":    #第四個序列是否為-\n",
    "    print(\"格式有誤\")    \n",
    "elif not phone_num[5:8].isdigit():    #檢查第5~7(因為不含8)碼是否為數字\n",
    "    print(\"格式有誤\")\n",
    "elif phone_num[8] != \"-\":\n",
    "    print(\"格式有誤\")\n",
    "elif not phone_num[-3:].isdigit():   #檢查後3碼是否為數字\n",
    "    print(\"格式有誤\")\n",
    "else:\n",
    "    print(f\"正確,您的電話號碼是:{phone_num}\")"
   ]
  }
 ],
 "metadata": {
  "kernelspec": {
   "display_name": "Python 3",
   "language": "python",
   "name": "python3"
  },
  "language_info": {
   "codemirror_mode": {
    "name": "ipython",
    "version": 3
   },
   "file_extension": ".py",
   "mimetype": "text/x-python",
   "name": "python",
   "nbconvert_exporter": "python",
   "pygments_lexer": "ipython3",
   "version": "3.10.12"
  },
  "orig_nbformat": 4
 },
 "nbformat": 4,
 "nbformat_minor": 2
}
