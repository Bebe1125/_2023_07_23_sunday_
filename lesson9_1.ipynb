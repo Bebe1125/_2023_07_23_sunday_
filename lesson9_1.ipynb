{
 "cells": [
  {
   "cell_type": "code",
   "execution_count": 26,
   "metadata": {},
   "outputs": [],
   "source": [
    "#python字串內建功能  #建立function\n",
    "def isPhoneNumber(text:str) -> bool:\n",
    "    if len(text) != 12:    #!=不等於\n",
    "        return False\n",
    "    elif not text[:4] .isdigit():   #檢查前4碼是否為數字  #not邏輯運算子\n",
    "        return False\n",
    "    elif text[4] != \"-\":    #第四個序列是否為-\n",
    "        return False    \n",
    "    elif not text[5:8].isdigit():    #檢查第5~7(因為不含8)碼是否為數字\n",
    "        return False\n",
    "    elif text[8] != \"-\":\n",
    "        return False\n",
    "    elif not text[-3:].isdigit():   #檢查後3碼是否為數字\n",
    "        return False\n",
    "    else:\n",
    "        return True\n",
    "    "
   ]
  },
  {
   "cell_type": "code",
   "execution_count": 37,
   "metadata": {},
   "outputs": [],
   "source": [
    "#字串正規則表達式(檢查字串格式,搜尋字串)\n",
    "#re 檢查0~9的數字\n",
    "#\n",
    "import re  #re. 比對的實體樣本\n",
    "def isPhoneNumber1(text:str) -> bool:\n",
    "    phone_num_regex = re.compile(r'\\d\\d\\d\\d-\\d\\d\\d-\\d\\d\\d')   #re. 比對的實體樣本 #r' ' 表示後面的\\d是原生字元\n",
    "    if phone_num_regex.match(text) is None:     #match 實體方法 ,當比對成功 會傳出match的實體,失敗傳出None\n",
    "        return False\n",
    "    else:\n",
    "        return True \n",
    "               "
   ]
  },
  {
   "cell_type": "code",
   "execution_count": 38,
   "metadata": {},
   "outputs": [
    {
     "name": "stdout",
     "output_type": "stream",
     "text": [
      "格式正確,電話號碼:0911-363-891\n"
     ]
    }
   ],
   "source": [
    "# 檢查台灣手機號碼輸入格式(xxxx-xxx-xxx)\n",
    "phone_num = input(\"請輸入手機號碼XXXX-XXX-XXX:\")\n",
    "if isPhoneNumber1(text=phone_num):\n",
    "    print(f\"格式正確,電話號碼:{phone_num}\")\n",
    "else:\n",
    "    print(f\"格式錯誤\")\n",
    "    print(\"正確格式是:xxxx-xxx-xxx\")"
   ]
  },
  {
   "cell_type": "code",
   "execution_count": 16,
   "metadata": {},
   "outputs": [
    {
     "name": "stdout",
     "output_type": "stream",
     "text": [
      "格式有誤\n"
     ]
    }
   ],
   "source": [
    "# 檢查台灣手機號碼輸入格式(xxxx-xxx-xxx)\n",
    "phone_num = input(\"請輸入手機號碼XXXX-XXX-XXX:\")\n",
    "if len(phone_num) != 12:    #!=不等於\n",
    "    print(\"格式有誤\")\n",
    "elif not phone_num[:4] .isdigit():   #檢查前4碼是否為數字  #not邏輯運算子\n",
    "    print(\"前4個格式有誤\")\n",
    "elif phone_num[4] != \"-\":    #第四個序列是否為-\n",
    "    print(\"格式有誤\")    \n",
    "elif not phone_num[5:8].isdigit():    #檢查第5~7(因為不含8)碼是否為數字\n",
    "    print(\"格式有誤\")\n",
    "elif phone_num[8] != \"-\":\n",
    "    print(\"格式有誤\")\n",
    "elif not phone_num[-3:].isdigit():   #檢查後3碼是否為數字\n",
    "    print(\"格式有誤\")\n",
    "else:\n",
    "    print(f\"正確,您的電話號碼是:{phone_num}\")"
   ]
  }
 ],
 "metadata": {
  "kernelspec": {
   "display_name": "Python 3",
   "language": "python",
   "name": "python3"
  },
  "language_info": {
   "codemirror_mode": {
    "name": "ipython",
    "version": 3
   },
   "file_extension": ".py",
   "mimetype": "text/x-python",
   "name": "python",
   "nbconvert_exporter": "python",
   "pygments_lexer": "ipython3",
   "version": "3.10.12"
  },
  "orig_nbformat": 4
 },
 "nbformat": 4,
 "nbformat_minor": 2
}
