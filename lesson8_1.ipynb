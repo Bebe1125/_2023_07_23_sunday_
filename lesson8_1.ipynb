{
 "cells": [
  {
   "cell_type": "code",
   "execution_count": 29,
   "metadata": {},
   "outputs": [],
   "source": [
    "#沒有參數,沒有傳出值(None)\n",
    "def func_sum() -> None:\n",
    "    a = 10\n",
    "    b = 20\n",
    "    c = a ** b\n",
    "    print(\"呼叫函式\")"
   ]
  },
  {
   "cell_type": "code",
   "execution_count": 30,
   "metadata": {},
   "outputs": [
    {
     "name": "stdout",
     "output_type": "stream",
     "text": [
      "呼叫函式\n"
     ]
    }
   ],
   "source": [
    "func_sum()"
   ]
  },
  {
   "cell_type": "code",
   "execution_count": 31,
   "metadata": {},
   "outputs": [],
   "source": [
    "def func_sum(a:int|float,b:int|float) -> None:  #:int|float註解可以省略，但有提示作用\n",
    "    c=a+b\n",
    "    print(f\"{a}+{b}={c}\")\n"
   ]
  },
  {
   "cell_type": "code",
   "execution_count": 32,
   "metadata": {},
   "outputs": [
    {
     "name": "stdout",
     "output_type": "stream",
     "text": [
      "5+10=15\n"
     ]
    }
   ],
   "source": [
    "#引數值的呼叫 #引數值不能更換位置\n",
    "func_sum(5,10) #5 10都是引數值\n"
   ]
  },
  {
   "cell_type": "code",
   "execution_count": 33,
   "metadata": {},
   "outputs": [
    {
     "name": "stdout",
     "output_type": "stream",
     "text": [
      "5+10=15\n"
     ]
    }
   ],
   "source": [
    "#引數名稱的呼叫\n",
    "func_sum(a=5,b=10) #5 10都是引數值"
   ]
  },
  {
   "cell_type": "code",
   "execution_count": 34,
   "metadata": {},
   "outputs": [
    {
     "name": "stdout",
     "output_type": "stream",
     "text": [
      "5+10=15\n"
     ]
    }
   ],
   "source": [
    "#引數名稱的呼叫 #引數名稱可以更換位置\n",
    "func_sum(b=10,a=5) "
   ]
  },
  {
   "cell_type": "code",
   "execution_count": 35,
   "metadata": {},
   "outputs": [
    {
     "name": "stdout",
     "output_type": "stream",
     "text": [
      "46.7+32.5=79.2\n"
     ]
    }
   ],
   "source": [
    "func_sum(46.7,32.5)"
   ]
  },
  {
   "cell_type": "code",
   "execution_count": 36,
   "metadata": {},
   "outputs": [],
   "source": [
    "def func_sum1(a:int|float,b:int|float) -> int|float: \n",
    "    c = a + b\n",
    "    return c\n",
    "    "
   ]
  },
  {
   "cell_type": "code",
   "execution_count": 37,
   "metadata": {},
   "outputs": [
    {
     "name": "stdout",
     "output_type": "stream",
     "text": [
      "10 + 25.5 =35.5\n"
     ]
    }
   ],
   "source": [
    "n = 10\n",
    "m = 25.5\n",
    "sum = func_sum1(n,m)\n",
    "\n",
    "print(f\"{n} + {m} ={sum}\")"
   ]
  },
  {
   "cell_type": "code",
   "execution_count": 38,
   "metadata": {},
   "outputs": [],
   "source": [
    "def check_prime(start: int,end:int) -> None:\n",
    "    for i in range(start, end+1):\n",
    "        is_prime = True\n",
    "        if i == 1:\n",
    "            continue\n",
    "        for j in range(2,i):\n",
    "            if i % j == 0:\n",
    "                is_prime = False\n",
    "                break\n",
    "        if is_prime:\n",
    "            print(i, end=' ')\n",
    "    return None\n",
    "    print(\"程式結束\") #只要有 return None 下面就不會被執行，所以此行不會出現"
   ]
  },
  {
   "cell_type": "code",
   "execution_count": 39,
   "metadata": {},
   "outputs": [
    {
     "name": "stdout",
     "output_type": "stream",
     "text": [
      "2 3 5 7 "
     ]
    }
   ],
   "source": [
    "check_prime(1,10)"
   ]
  },
  {
   "cell_type": "code",
   "execution_count": 40,
   "metadata": {},
   "outputs": [
    {
     "name": "stdout",
     "output_type": "stream",
     "text": [
      "2 3 5 7 "
     ]
    }
   ],
   "source": [
    "check_prime(1,end=10) #只有一個是引數名稱也OK"
   ]
  },
  {
   "cell_type": "code",
   "execution_count": 41,
   "metadata": {},
   "outputs": [
    {
     "name": "stdout",
     "output_type": "stream",
     "text": [
      "Hello there!\n",
      "How are you?\n",
      "I'm doing fine.\n"
     ]
    }
   ],
   "source": [
    "#字串\n",
    "print(\"Hello there!\\nHow are you?\\nI'm doing fine.\")"
   ]
  },
  {
   "cell_type": "code",
   "execution_count": 50,
   "metadata": {},
   "outputs": [
    {
     "data": {
      "text/plain": [
       "\"Hello there!\\nHow are you?\\nI'm doing fine.\""
      ]
     },
     "metadata": {},
     "output_type": "display_data"
    }
   ],
   "source": [
    "#display Ipython的功能  #這不是python的功能 是jupyter的功能\n",
    "display(\"Hello there!\\nHow are you?\\nI'm doing fine.\")  "
   ]
  },
  {
   "cell_type": "code",
   "execution_count": 52,
   "metadata": {},
   "outputs": [
    {
     "data": {
      "text/plain": [
       "\"Hello there!\\nHow are you?\\nI'm doing fine.\""
      ]
     },
     "metadata": {},
     "output_type": "display_data"
    }
   ],
   "source": [
    "#display Ipython的功能\n",
    "display('Hello there!\\nHow are you?\\nI\\'m doing fine.')"
   ]
  },
  {
   "cell_type": "code",
   "execution_count": 53,
   "metadata": {},
   "outputs": [
    {
     "name": "stdout",
     "output_type": "stream",
     "text": [
      "位置引數模式與 range() 的位置引數模式匹配。不應使用關鍵字引數，因為函式可能會以不預期的方式使用它們。在 3.2 版本變更在產生均勻分佈的值方面更為複雜。以前，它使用像 int(random()*n) 這樣的樣式，這可能會產生稍微不均勻的分佈。\n"
     ]
    }
   ],
   "source": [
    "#字串換行連結 \\  (這個比較簡單)\n",
    "sentens = \"位置引數模式與 range() 的位置引數模式匹配。\\\n",
    "不應使用關鍵字引數，因為函式可能會以不預期的方式使用它們。\\\n",
    "在 3.2 版本變更在產生均勻分佈的值方面更為複雜。\\\n",
    "以前，它使用像 int(random()*n) 這樣的樣式，這可能會產生稍微不均勻的分佈。\"\n",
    "print(sentens)"
   ]
  },
  {
   "cell_type": "code",
   "execution_count": 54,
   "metadata": {},
   "outputs": [
    {
     "name": "stdout",
     "output_type": "stream",
     "text": [
      "位置引數模式與 range() 的位置引數模式匹配。不應使用關鍵字引數，因為函式可能會以不預期的方式使用它們。在 3.2 版本變更在產生均勻分佈的值方面更為複雜。以前，它使用像 int(random()*n) 這樣的樣式，這可能會產生稍微不均勻的分佈。\n"
     ]
    }
   ],
   "source": [
    "#另一種字串換行方法\n",
    "sentens = \"\"\n",
    "sentens +='位置引數模式與 range() 的位置引數模式匹配。'\n",
    "sentens +='不應使用關鍵字引數，因為函式可能會以不預期的方式使用它們。'\n",
    "sentens +='在 3.2 版本變更在產生均勻分佈的值方面更為複雜。'\n",
    "sentens +='以前，它使用像 int(random()*n) 這樣的樣式，這可能會產生稍微不均勻的分佈。'\n",
    "print(sentens)"
   ]
  },
  {
   "cell_type": "code",
   "execution_count": 55,
   "metadata": {},
   "outputs": [
    {
     "name": "stdout",
     "output_type": "stream",
     "text": [
      "位置引數模式與 range() 的位置引數模式匹配。\n",
      "不應使用關鍵字引數，因為函式可能會以不預期的方式使用它們。\n",
      "在 3.2 版本變更在產生均勻分佈的值方面更為複雜。\n",
      "以前，它使用像 int(random()*n) 這樣的樣式，這可能會產生稍微不均勻的分佈。\n"
     ]
    }
   ],
   "source": [
    "#多行\n",
    "sentens = \"\"\"位置引數模式與 range() 的位置引數模式匹配。\n",
    "不應使用關鍵字引數，因為函式可能會以不預期的方式使用它們。\n",
    "在 3.2 版本變更在產生均勻分佈的值方面更為複雜。\n",
    "以前，它使用像 int(random()*n) 這樣的樣式，這可能會產生稍微不均勻的分佈。\"\"\"\n",
    "print(sentens)"
   ]
  },
  {
   "cell_type": "code",
   "execution_count": 58,
   "metadata": {},
   "outputs": [],
   "source": [
    "sentens = \"Dear Alice\\n\\nEve's cat不應使用關鍵字引數，因為函式可能會以不預期的方式使用它們\\n\\n版本變更在產生均勻分佈的值方面更為複雜。\\n這可能會產生稍微不均勻的分佈\""
   ]
  },
  {
   "cell_type": "code",
   "execution_count": 59,
   "metadata": {},
   "outputs": [
    {
     "name": "stdout",
     "output_type": "stream",
     "text": [
      "Dear Alice\n",
      "\n",
      "Eve's cat不應使用關鍵字引數，因為函式可能會以不預期的方式使用它們\n",
      "\n",
      "版本變更在產生均勻分佈的值方面更為複雜。\n",
      "這可能會產生稍微不均勻的分佈\n"
     ]
    }
   ],
   "source": [
    "print(sentens)"
   ]
  },
  {
   "cell_type": "code",
   "execution_count": 65,
   "metadata": {},
   "outputs": [],
   "source": [
    "#多行\n",
    "sentens = \"\"\"位置引數模式與 range() 的位置引數模式匹配。\n",
    "\n",
    "不應使用關鍵字引數，因為函式可能會以不預期的方式使用它們。\n",
    "\n",
    "在 3.2 版本變更在產生均勻分佈的值方面更為複雜。\n",
    "以前，它使用像 int(random()*n) 這樣的樣式，這可能會產生稍微不均勻的分佈。\"\"\"\n"
   ]
  },
  {
   "cell_type": "code",
   "execution_count": 64,
   "metadata": {},
   "outputs": [
    {
     "name": "stdout",
     "output_type": "stream",
     "text": [
      "位置引數模式與 range() 的位置引數模式匹配。\n",
      "\n",
      "不應使用關鍵字引數，因為函式可能會以不預期的方式使用它們。\n",
      "\n",
      "在 3.2 版本變更在產生均勻分佈的值方面更為複雜。\n",
      "以前，它使用像 int(random()*n) 這樣的樣式，這可能會產生稍微不均勻的分佈。\n"
     ]
    }
   ],
   "source": [
    "print(sentens)"
   ]
  }
 ],
 "metadata": {
  "kernelspec": {
   "display_name": "Python 3",
   "language": "python",
   "name": "python3"
  },
  "language_info": {
   "codemirror_mode": {
    "name": "ipython",
    "version": 3
   },
   "file_extension": ".py",
   "mimetype": "text/x-python",
   "name": "python",
   "nbconvert_exporter": "python",
   "pygments_lexer": "ipython3",
   "version": "3.10.12"
  },
  "orig_nbformat": 4
 },
 "nbformat": 4,
 "nbformat_minor": 2
}
