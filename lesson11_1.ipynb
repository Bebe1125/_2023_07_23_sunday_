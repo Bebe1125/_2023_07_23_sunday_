{
 "cells": [
  {
   "cell_type": "code",
   "execution_count": 4,
   "metadata": {},
   "outputs": [
    {
     "name": "stdout",
     "output_type": "stream",
     "text": [
      "[89, 79, 68, 92, 58]\n",
      "[98, 67, 75, 83, 71]\n",
      "[78, 97, 84, 73, 92]\n"
     ]
    }
   ],
   "source": [
    "#2維的list 會產生簡單的表格資料\n",
    "#list特性:可排列順序\n",
    "score1 = [89,79,68,92,58]\n",
    "score2 = [98,67,75,83,71]\n",
    "score3 = [78,97,84,73,92]\n",
    "\n",
    "students = [score1,score2,score3,]  #建立2維list\n",
    "for student in students:  #取出第2維資料\n",
    "    print(student)"
   ]
  },
  {
   "cell_type": "code",
   "execution_count": 8,
   "metadata": {},
   "outputs": [
    {
     "data": {
      "text/plain": [
       "[78, 52, 60, 64, 51]"
      ]
     },
     "execution_count": 8,
     "metadata": {},
     "output_type": "execute_result"
    }
   ],
   "source": [
    "import random\n",
    "score = []\n",
    "for _ in range(5):  # _省略運算子\n",
    "    score.append(random.randint(50,100))   #50~100間的亂數\n",
    "score"
   ]
  },
  {
   "cell_type": "code",
   "execution_count": 12,
   "metadata": {},
   "outputs": [
    {
     "data": {
      "text/plain": [
       "[50, 61, 92, 84, 55]"
      ]
     },
     "execution_count": 12,
     "metadata": {},
     "output_type": "execute_result"
    }
   ],
   "source": [
    "import random\n",
    "#list comprehension\n",
    "score = [random.randint(50,100)for _ in range(5)]\n",
    "score"
   ]
  },
  {
   "cell_type": "code",
   "execution_count": 20,
   "metadata": {},
   "outputs": [
    {
     "data": {
      "text/plain": [
       "[[67, 51, 56, 89, 71],\n",
       " [99, 83, 69, 67, 95],\n",
       " [87, 55, 53, 61, 84],\n",
       " [63, 86, 50, 94, 72],\n",
       " [75, 90, 71, 78, 58],\n",
       " [89, 64, 75, 54, 69],\n",
       " [89, 97, 56, 89, 53],\n",
       " [100, 73, 89, 100, 93],\n",
       " [67, 58, 63, 63, 90],\n",
       " [56, 61, 94, 74, 98],\n",
       " [57, 60, 78, 96, 51],\n",
       " [89, 79, 72, 77, 79],\n",
       " [100, 54, 90, 84, 83],\n",
       " [74, 97, 80, 64, 88],\n",
       " [95, 69, 75, 61, 91],\n",
       " [51, 97, 81, 78, 55],\n",
       " [52, 67, 54, 55, 100],\n",
       " [71, 50, 99, 52, 69],\n",
       " [78, 58, 79, 56, 96],\n",
       " [63, 84, 67, 55, 70],\n",
       " [63, 96, 74, 86, 73],\n",
       " [96, 92, 59, 53, 92],\n",
       " [65, 90, 66, 91, 55],\n",
       " [80, 86, 96, 87, 71],\n",
       " [70, 83, 68, 76, 97],\n",
       " [76, 65, 86, 53, 100],\n",
       " [72, 91, 60, 90, 77],\n",
       " [76, 89, 62, 97, 57],\n",
       " [79, 98, 86, 77, 99],\n",
       " [54, 80, 55, 53, 91],\n",
       " [68, 99, 76, 56, 82],\n",
       " [71, 63, 69, 70, 64],\n",
       " [87, 71, 93, 74, 70],\n",
       " [88, 74, 89, 84, 72],\n",
       " [74, 83, 90, 78, 66],\n",
       " [60, 80, 96, 57, 62],\n",
       " [57, 83, 55, 50, 73],\n",
       " [88, 60, 80, 74, 75],\n",
       " [77, 59, 94, 77, 83],\n",
       " [50, 57, 73, 91, 58],\n",
       " [85, 65, 58, 54, 62],\n",
       " [100, 81, 90, 76, 59],\n",
       " [59, 51, 81, 100, 54],\n",
       " [68, 67, 53, 53, 72],\n",
       " [85, 65, 82, 88, 60],\n",
       " [99, 74, 84, 79, 62],\n",
       " [84, 87, 91, 70, 57],\n",
       " [72, 90, 73, 50, 74],\n",
       " [73, 59, 90, 72, 73],\n",
       " [75, 90, 98, 87, 54]]"
      ]
     },
     "execution_count": 20,
     "metadata": {},
     "output_type": "execute_result"
    }
   ],
   "source": [
    "import random\n",
    "\n",
    "student_num = 50\n",
    "students:list[list] = []  #建立第一維list  # :list = [list]可以省略 但寫了方便了解list 裡面還有list\n",
    "for _ in range(student_num):\n",
    "    one_student = [random.randint(50,100)for _ in range(5)]  #建立第2維list\n",
    "    students.append(one_student)\n",
    "\n",
    "students\n",
    "\n"
   ]
  }
 ],
 "metadata": {
  "kernelspec": {
   "display_name": "Python 3",
   "language": "python",
   "name": "python3"
  },
  "language_info": {
   "codemirror_mode": {
    "name": "ipython",
    "version": 3
   },
   "file_extension": ".py",
   "mimetype": "text/x-python",
   "name": "python",
   "nbconvert_exporter": "python",
   "pygments_lexer": "ipython3",
   "version": "3.10.12"
  },
  "orig_nbformat": 4
 },
 "nbformat": 4,
 "nbformat_minor": 2
}
