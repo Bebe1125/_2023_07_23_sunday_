{
 "cells": [
  {
   "cell_type": "code",
   "execution_count": 3,
   "metadata": {},
   "outputs": [
    {
     "name": "stdout",
     "output_type": "stream",
     "text": [
      "[89, 79, 68, 92, 58]\n",
      "[98, 67, 75, 83, 71]\n",
      "[78, 97, 84, 73, 92]\n"
     ]
    }
   ],
   "source": [
    "#2維的list 會產生簡單的表格資料\n",
    "#list特性:可排列順序\n",
    "score1 = [89,79,68,92,58]\n",
    "score2 = [98,67,75,83,71]\n",
    "score3 = [78,97,84,73,92]\n",
    "\n",
    "students = [score1,score2,score3,] #建立2維list\n",
    "for students in students: #取出第2維資料\n",
    "    print(students)"
   ]
  }
 ],
 "metadata": {
  "kernelspec": {
   "display_name": "Python 3",
   "language": "python",
   "name": "python3"
  },
  "language_info": {
   "codemirror_mode": {
    "name": "ipython",
    "version": 3
   },
   "file_extension": ".py",
   "mimetype": "text/x-python",
   "name": "python",
   "nbconvert_exporter": "python",
   "pygments_lexer": "ipython3",
   "version": "3.10.12"
  },
  "orig_nbformat": 4
 },
 "nbformat": 4,
 "nbformat_minor": 2
}
